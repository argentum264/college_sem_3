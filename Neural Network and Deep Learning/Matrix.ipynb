{
 "cells": [
  {
   "cell_type": "markdown",
   "id": "79ec8a15-3e7b-4179-b819-093f9fd453c3",
   "metadata": {},
   "source": [
    "# <center> Matrix"
   ]
  },
  {
   "cell_type": "code",
   "execution_count": 1,
   "id": "3af9b5a7-d0c5-41db-8031-3d79a6ba1048",
   "metadata": {
    "tags": []
   },
   "outputs": [],
   "source": [
    "class matrix:\n",
    "    def multiplication(self, a, b):\n",
    "        if len(set(len(i) for i in a)) != 1 or len(set(len(i) for i in b)) != 1:\n",
    "            print(\"Matrix entered is wrong.\")\n",
    "            return -1\n",
    "        if len(a[0]) != len(b):\n",
    "            print(f\"Matrix A has {len(a[0])} columns and Matrix B has {len(b)} Rows therefore multiplication is not possible.\")\n",
    "            return -1\n",
    "        \n",
    "        product = []\n",
    "        for i in range(len(a)):\n",
    "            new_row = []\n",
    "            for j in range(len(b[0])):\n",
    "                prod_sum = 0\n",
    "                for k in range(len(a[0])):\n",
    "                     prod_sum += a[i][k] * b[k][j]\n",
    "                new_row.append(prod_sum)\n",
    "            product.append(new_row)\n",
    "                \n",
    "        return product\n",
    "            \n",
    "    def summation(self, a, b):\n",
    "        if len(set(len(i) for i in a)) != 1 or len(set(len(i) for i in b)) != 1:\n",
    "            print(\"Matrix entered is wrong.\")\n",
    "            return -1\n",
    "        if (len(a) != len(b))  and (len(a[0]) != len(b[0])):\n",
    "            print(\"Matrix entered does not has same number of rows and columns so it cannot be added.\")\n",
    "            return -1\n",
    "        final = []\n",
    "        for i in range(len(a)):\n",
    "            row = []\n",
    "            for j in range(len(b)):\n",
    "                row.append(a[i][j] + b[i][j])\n",
    "            final.append(row)\n",
    "                \n",
    "        return final\n",
    "    \n",
    "    def printing(self, product):\n",
    "        if product != -1:\n",
    "            for i in range(len(product)):\n",
    "                for j in range(len(product[0])):\n",
    "                    print(f'{product[i][j]}  ', end = \"\")\n",
    "                print()"
   ]
  },
  {
   "cell_type": "code",
   "execution_count": 2,
   "id": "e2cd7b25-ae19-4618-aa30-ddc185f3bca5",
   "metadata": {
    "tags": []
   },
   "outputs": [],
   "source": [
    "a = [[1, 2], [3, 4]]\n",
    "b = [[5, 6], [7, 8]]\n",
    "c = [[2, 4], [6, 8]]"
   ]
  },
  {
   "cell_type": "code",
   "execution_count": 3,
   "id": "bf58b39c-059b-48bb-871f-7fbcc4659d83",
   "metadata": {
    "tags": []
   },
   "outputs": [],
   "source": [
    "# Making object for class matrix\n",
    "matrix_obj = matrix()"
   ]
  },
  {
   "cell_type": "markdown",
   "id": "6ebd0b43-f310-4c69-89f5-4f12f40c1e27",
   "metadata": {},
   "source": [
    "# The below proves the Associative law in Matrix Multiplication"
   ]
  },
  {
   "cell_type": "code",
   "execution_count": 4,
   "id": "46f4ee17-40f7-44d1-b8db-db89177f5edd",
   "metadata": {
    "tags": []
   },
   "outputs": [
    {
     "name": "stdout",
     "output_type": "stream",
     "text": [
      "\n",
      "(A*B)C =\n",
      "\n",
      "170  252  \n",
      "386  572  \n",
      "\n",
      "A(B*C) = \n",
      "\n",
      "170  252  \n",
      "386  572  \n"
     ]
    }
   ],
   "source": [
    "# calling the functions\n",
    "\n",
    "product = matrix_obj.multiplication(a, b)\n",
    "product = matrix_obj.multiplication(product, c)\n",
    "print(\"\\n(A*B)C =\\n\")\n",
    "matrix_obj.printing(product)\n",
    "\n",
    "product = matrix_obj.multiplication(b, c)\n",
    "product = matrix_obj.multiplication(a, product)\n",
    "print(\"\\nA(B*C) = \\n\")\n",
    "matrix_obj.printing(product)\n",
    "\n"
   ]
  },
  {
   "cell_type": "markdown",
   "id": "e13ef22d-2181-4144-b102-d7021717c8db",
   "metadata": {},
   "source": [
    "# The below proves the Distributive law in Matrix Multiplication"
   ]
  },
  {
   "cell_type": "code",
   "execution_count": 5,
   "id": "58f3e592-985c-4957-83e1-521c4854fce6",
   "metadata": {
    "tags": []
   },
   "outputs": [
    {
     "name": "stdout",
     "output_type": "stream",
     "text": [
      "\n",
      "A(B+C) =\n",
      "\n",
      "33  42  \n",
      "73  94  \n",
      "\n",
      "A*B+A*C =\n",
      "\n",
      "33  42  \n",
      "73  94  \n"
     ]
    }
   ],
   "source": [
    "# Calling the functions\n",
    "\n",
    "summation = matrix_obj.summation(b, c)\n",
    "product = matrix_obj.multiplication(a, summation)\n",
    "print(\"\\nA(B+C) =\\n\")\n",
    "matrix_obj.printing(product)\n",
    "\n",
    "product_1 = matrix_obj.multiplication(a, b)\n",
    "product_2 = matrix_obj.multiplication(a, c)\n",
    "summation = matrix_obj.summation(product_1, product_2)\n",
    "print(\"\\nA*B+A*C =\\n\")\n",
    "matrix_obj.printing(product)"
   ]
  },
  {
   "cell_type": "markdown",
   "id": "b741efa8-c227-40f3-9e37-f3e13e387106",
   "metadata": {},
   "source": [
    "# The below proves the Not Cumulative behaviour in Matrix Multiplication"
   ]
  },
  {
   "cell_type": "code",
   "execution_count": 6,
   "id": "966f4b85-7981-46f7-b8b5-c0996e5dc765",
   "metadata": {
    "tags": []
   },
   "outputs": [
    {
     "name": "stdout",
     "output_type": "stream",
     "text": [
      "\n",
      "A*B =\n",
      "\n",
      "19  22  \n",
      "43  50  \n",
      "\n",
      "B*A =\n",
      "\n",
      "23  34  \n",
      "31  46  \n"
     ]
    }
   ],
   "source": [
    "# Calling the functions\n",
    "\n",
    "product_1 = matrix_obj.multiplication(a, b)\n",
    "print(\"\\nA*B =\\n\")\n",
    "matrix_obj.printing(product_1)\n",
    "\n",
    "product_2 = matrix_obj.multiplication(b, a)\n",
    "print(\"\\nB*A =\\n\")\n",
    "matrix_obj.printing(product_2)"
   ]
  },
  {
   "cell_type": "markdown",
   "id": "97781f55-d4a6-4915-a92a-1426691e6c52",
   "metadata": {},
   "source": [
    "# The below proves the Cumulative behaviour in Matrix Addition"
   ]
  },
  {
   "cell_type": "code",
   "execution_count": 7,
   "id": "e7fb03b6-c6bc-486a-bb7b-7dc4527e83a9",
   "metadata": {
    "tags": []
   },
   "outputs": [
    {
     "name": "stdout",
     "output_type": "stream",
     "text": [
      "\n",
      "A+B =\n",
      "\n",
      "6  8  \n",
      "10  12  \n",
      "\n",
      "B+A =\n",
      "\n",
      "6  8  \n",
      "10  12  \n"
     ]
    }
   ],
   "source": [
    "# Calling the functions\n",
    "\n",
    "summation_1 = matrix_obj.summation(a, b)\n",
    "print(\"\\nA+B =\\n\")\n",
    "matrix_obj.printing(summation_1)\n",
    "\n",
    "summation_2 = matrix_obj.summation(b, a)\n",
    "print(\"\\nB+A =\\n\")\n",
    "matrix_obj.printing(summation_2)"
   ]
  },
  {
   "cell_type": "markdown",
   "id": "d30901e8-0635-4f0e-b2be-a386aaf7a084",
   "metadata": {},
   "source": [
    "# The below proves the Associative behaviour in Matrix Addition"
   ]
  },
  {
   "cell_type": "code",
   "execution_count": 8,
   "id": "68e690a5-c64b-441f-b8f1-b1e9fcaf0581",
   "metadata": {
    "tags": []
   },
   "outputs": [
    {
     "name": "stdout",
     "output_type": "stream",
     "text": [
      "\n",
      "(A+B)+C =\n",
      "\n",
      "8  12  \n",
      "16  20  \n",
      "\n",
      "A+(B+C) =\n",
      "\n",
      "8  12  \n",
      "16  20  \n"
     ]
    }
   ],
   "source": [
    "# Calling the functions\n",
    "\n",
    "summation_1 = matrix_obj.summation(a, b)\n",
    "summation_1 = matrix_obj.summation(summation_1, c)\n",
    "print(\"\\n(A+B)+C =\\n\")\n",
    "matrix_obj.printing(summation_1)\n",
    "\n",
    "summation_2 = matrix_obj.summation(b, c)\n",
    "summation_2 = matrix_obj.summation(a, summation_2)\n",
    "print(\"\\nA+(B+C) =\\n\")\n",
    "matrix_obj.printing(summation_2)"
   ]
  },
  {
   "cell_type": "code",
   "execution_count": null,
   "id": "52d2bae0-ff84-47ad-9fa6-792100d7159d",
   "metadata": {},
   "outputs": [],
   "source": []
  }
 ],
 "metadata": {
  "kernelspec": {
   "display_name": "Python 3 (ipykernel)",
   "language": "python",
   "name": "python3"
  },
  "language_info": {
   "codemirror_mode": {
    "name": "ipython",
    "version": 3
   },
   "file_extension": ".py",
   "mimetype": "text/x-python",
   "name": "python",
   "nbconvert_exporter": "python",
   "pygments_lexer": "ipython3",
   "version": "3.11.4"
  }
 },
 "nbformat": 4,
 "nbformat_minor": 5
}
