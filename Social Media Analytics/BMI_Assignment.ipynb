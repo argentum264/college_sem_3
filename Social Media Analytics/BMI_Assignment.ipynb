{
 "cells": [
  {
   "cell_type": "markdown",
   "id": "ac171a82-da38-4454-8712-3d960172c2b1",
   "metadata": {},
   "source": [
    "# <center> BMI Assignment"
   ]
  },
  {
   "cell_type": "code",
   "execution_count": 1,
   "id": "985709c7-363f-4d22-8930-b57057a26ec1",
   "metadata": {
    "tags": []
   },
   "outputs": [
    {
     "name": "stdout",
     "output_type": "stream",
     "text": [
      "[180, 180, 170, 200, 170, 180, 140, 190, 180, 130, 150, 220, 185, 110, 165, 300, 150, 86, 140, 300, 155, 150, 182, 178, 170, 150]\n"
     ]
    }
   ],
   "source": [
    "# Reading the text file hw.txt\n",
    "with open('hw.txt', 'r') as file:\n",
    "    numbers = [int(line.strip()) for line in file]\n",
    "\n",
    "print(numbers)"
   ]
  },
  {
   "cell_type": "code",
   "execution_count": 2,
   "id": "7cb77d9f-e52a-404b-ad8a-e3a62a9756fc",
   "metadata": {
    "tags": []
   },
   "outputs": [
    {
     "name": "stdout",
     "output_type": "stream",
     "text": [
      "{'Person- 1': 25.2525, 'Person- 2': 31.4564, 'Person- 3': 28.3108, 'Person- 4': 44.0631, 'Person- 5': 18.2379, 'Person- 6': 44.4444, 'Person- 7': 14.6092, 'Person- 8': 50.0877, 'Person- 9': 17.3737, 'Person- 10': 69.5733, 'Person- 11': 28.3795, 'Person- 12': 24.4261, 'Person- 13': 23.5923}\n"
     ]
    }
   ],
   "source": [
    "# Measuring BMI of every person and storing it in a dictionary\n",
    "people_dict = {}\n",
    "counter = 1\n",
    "for i in range(0, len(numbers), 2):\n",
    "    height_m = float(numbers[i]/100)\n",
    "    weight_kg = float(numbers[i + 1]/2.2)\n",
    "    str_person = 'Person- '+ str(counter)\n",
    "    people_dict[str_person] = round(weight_kg/(height_m**2), 4)\n",
    "    counter += 1\n",
    "\n",
    "print(people_dict)"
   ]
  },
  {
   "cell_type": "code",
   "execution_count": 3,
   "id": "05661e15-3cad-47dc-b9e2-e50750573e14",
   "metadata": {
    "tags": []
   },
   "outputs": [
    {
     "name": "stdout",
     "output_type": "stream",
     "text": [
      "{'Under Weight': [{'Person- 5': 18.2379}, {'Person- 7': 14.6092}, {'Person- 9': 17.3737}], 'Normal': [{'Person- 12': 24.4261}, {'Person- 13': 23.5923}], 'Over Weight': [{'Person- 1': 25.2525}, {'Person- 3': 28.3108}, {'Person- 11': 28.3795}], 'Obesity': [{'Person- 2': 31.4564}, {'Person- 4': 44.0631}, {'Person- 6': 44.4444}, {'Person- 8': 50.0877}, {'Person- 10': 69.5733}]}\n"
     ]
    }
   ],
   "source": [
    "# Categorizing the weight category using the calculated BMIs\n",
    "category = {}\n",
    "category['Under Weight'] = []\n",
    "category['Normal'] = []\n",
    "category['Over Weight'] = []\n",
    "category['Obesity'] = []\n",
    "for key, val in people_dict.items():\n",
    "    if val <= 0:\n",
    "        pass\n",
    "    elif val > 0 and val <= 18.5:\n",
    "        category['Under Weight'].append({key:val})\n",
    "    elif val <=24.9:\n",
    "        category['Normal'].append({key:val})\n",
    "    elif val <=29.9:\n",
    "        category['Over Weight'].append({key:val})\n",
    "    elif val > 30:\n",
    "        category['Obesity'].append({key:val})\n",
    "print(category)"
   ]
  },
  {
   "cell_type": "code",
   "execution_count": 4,
   "id": "27047246-3165-4683-9065-bd54407b5079",
   "metadata": {
    "tags": []
   },
   "outputs": [
    {
     "name": "stdout",
     "output_type": "stream",
     "text": [
      "Under Weight:\n",
      "Person- 5 : 18.2379\n",
      "Person- 7 : 14.6092\n",
      "Person- 9 : 17.3737\n",
      "Group Size: 3\n",
      "Average BMI for this group: 16.7403\n",
      "Normal:\n",
      "Person- 12 : 24.4261\n",
      "Person- 13 : 23.5923\n",
      "Group Size: 2\n",
      "Average BMI for this group: 24.0092\n",
      "Over Weight:\n",
      "Person- 1 : 25.2525\n",
      "Person- 3 : 28.3108\n",
      "Person- 11 : 28.3795\n",
      "Group Size: 3\n",
      "Average BMI for this group: 27.3143\n",
      "Obesity:\n",
      "Person- 2 : 31.4564\n",
      "Person- 4 : 44.0631\n",
      "Person- 6 : 44.4444\n",
      "Person- 8 : 50.0877\n",
      "Person- 10 : 69.5733\n",
      "Group Size: 5\n",
      "Average BMI for this group: 47.925\n",
      "The file has records for 13 persons\n",
      "Average BMI for all these 13 persons: 32.2928\n"
     ]
    }
   ],
   "source": [
    "# Calculating the average BMIs and Listed BMI group sizes\n",
    "total_bmi_sum = 0\n",
    "for key, val in category.items():\n",
    "    print(f\"{key}:\")\n",
    "    if len(val) > 0:\n",
    "        sum_bmi = 0\n",
    "        for i in val:\n",
    "            for j, k in i.items():\n",
    "                print(f\"{j} : {k}\")\n",
    "                sum_bmi += k\n",
    "                total_bmi_sum += k\n",
    "        print(f\"Group Size: {len(val)}\")\n",
    "        print(f\"Average BMI for this group: {round(sum_bmi/len(val), 4)}\")\n",
    "        \n",
    "total_records = len(people_dict.keys())\n",
    "print(f\"The file has records for {total_records} persons\")\n",
    "print(f\"Average BMI for all these {total_records} persons: {round(total_bmi_sum/total_records, 4)}\")"
   ]
  },
  {
   "cell_type": "code",
   "execution_count": null,
   "id": "04eddf25-ac33-4736-aebb-46a75e140a93",
   "metadata": {},
   "outputs": [],
   "source": []
  }
 ],
 "metadata": {
  "kernelspec": {
   "display_name": "Python 3 (ipykernel)",
   "language": "python",
   "name": "python3"
  },
  "language_info": {
   "codemirror_mode": {
    "name": "ipython",
    "version": 3
   },
   "file_extension": ".py",
   "mimetype": "text/x-python",
   "name": "python",
   "nbconvert_exporter": "python",
   "pygments_lexer": "ipython3",
   "version": "3.11.4"
  }
 },
 "nbformat": 4,
 "nbformat_minor": 5
}
